{
 "cells": [
  {
   "cell_type": "markdown",
   "metadata": {},
   "source": [
    "# Working with Known JSON Schemas - Lab"
   ]
  },
  {
   "cell_type": "markdown",
   "metadata": {},
   "source": [
    "## Introduction\n",
    "In this lab you'll practice working with json files whose schema you know beforehand."
   ]
  },
  {
   "cell_type": "markdown",
   "metadata": {},
   "source": [
    "## Objectives\n",
    "You will be able to:\n",
    "* Read JSON Documentation Schemas and translate into code\n",
    "* Extract data from known json schemas\n",
    "* Write data to predefined JSON schemas"
   ]
  },
  {
   "cell_type": "markdown",
   "metadata": {},
   "source": [
    "## Reading a JSON Schema\n",
    "\n",
    "Here's the JSON schema provided for a section of the NY Times API:\n",
    "<img src=\"images/nytimes_movie_schema.png\" width=500>\n",
    "\n",
    "or a fully expanded view:\n",
    "\n",
    "<img src=\"images/nytimes_movie_schema_detailed.png\" width=500>\n",
    "\n",
    "You can see this yourself here:\n",
    "https://developer.nytimes.com/movie_reviews_v2.json#/Documentation/GET/critics/%7Bresource-type%7D.json"
   ]
  },
  {
   "cell_type": "markdown",
   "metadata": {},
   "source": [
    "You can see that the master structure is a dictionary and has a key named 'response'. This is also a dictionary and has two keys: 'data' and 'meta'. As you continue to examine the schema hierarchy, you'll notice the vast majority in this case are dictionaries. "
   ]
  },
  {
   "cell_type": "markdown",
   "metadata": {},
   "source": [
    "## Loading the Data File\n",
    "\n",
    "Start by importing the json file. The sample response from the api is stored in a file **ny_times_movies.json**"
   ]
  },
  {
   "cell_type": "code",
   "execution_count": 1,
   "metadata": {},
   "outputs": [
    {
     "name": "stdout",
     "output_type": "stream",
     "text": [
      "CONTRIBUTING.md  index.ipynb  ny_times_movies.json  README.md\r\n",
      "\u001b[0m\u001b[01;34mimages\u001b[0m/          LICENSE.md   output.json\r\n"
     ]
    }
   ],
   "source": [
    "ls"
   ]
  },
  {
   "cell_type": "code",
   "execution_count": 9,
   "metadata": {},
   "outputs": [],
   "source": [
    "#Your code here\n",
    "import pandas as pd\n",
    "import json\n",
    "f = open (\"ny_times_movies.json\", \"r\")\n",
    "data = json.load(f)"
   ]
  },
  {
   "cell_type": "markdown",
   "metadata": {},
   "source": [
    "## Loading Specific Data\n",
    "\n",
    "Create a DataFrame of the major data container within the json file, listed under the 'results' heading in the schema above."
   ]
  },
  {
   "cell_type": "code",
   "execution_count": 7,
   "metadata": {},
   "outputs": [],
   "source": [
    "type(data)\n",
    "data.keys()\n",
    "data[\"results\"];"
   ]
  },
  {
   "cell_type": "code",
   "execution_count": 20,
   "metadata": {},
   "outputs": [
    {
     "data": {
      "text/html": [
       "<div>\n",
       "<style scoped>\n",
       "    .dataframe tbody tr th:only-of-type {\n",
       "        vertical-align: middle;\n",
       "    }\n",
       "\n",
       "    .dataframe tbody tr th {\n",
       "        vertical-align: top;\n",
       "    }\n",
       "\n",
       "    .dataframe thead th {\n",
       "        text-align: right;\n",
       "    }\n",
       "</style>\n",
       "<table border=\"1\" class=\"dataframe\">\n",
       "  <thead>\n",
       "    <tr style=\"text-align: right;\">\n",
       "      <th></th>\n",
       "      <th>critics_pick</th>\n",
       "      <th>date_updated</th>\n",
       "      <th>display_title</th>\n",
       "      <th>headline</th>\n",
       "      <th>link</th>\n",
       "      <th>mpaa_rating</th>\n",
       "      <th>multimedia</th>\n",
       "      <th>opening_date</th>\n",
       "      <th>publication_date</th>\n",
       "      <th>summary_short</th>\n",
       "    </tr>\n",
       "    <tr>\n",
       "      <th>byline</th>\n",
       "      <th></th>\n",
       "      <th></th>\n",
       "      <th></th>\n",
       "      <th></th>\n",
       "      <th></th>\n",
       "      <th></th>\n",
       "      <th></th>\n",
       "      <th></th>\n",
       "      <th></th>\n",
       "      <th></th>\n",
       "    </tr>\n",
       "  </thead>\n",
       "  <tbody>\n",
       "    <tr>\n",
       "      <th>A. O. SCOTT</th>\n",
       "      <td>5</td>\n",
       "      <td>5</td>\n",
       "      <td>5</td>\n",
       "      <td>5</td>\n",
       "      <td>5</td>\n",
       "      <td>5</td>\n",
       "      <td>5</td>\n",
       "      <td>5</td>\n",
       "      <td>5</td>\n",
       "      <td>5</td>\n",
       "    </tr>\n",
       "    <tr>\n",
       "      <th>BEN KENIGSBERG</th>\n",
       "      <td>3</td>\n",
       "      <td>3</td>\n",
       "      <td>3</td>\n",
       "      <td>3</td>\n",
       "      <td>3</td>\n",
       "      <td>3</td>\n",
       "      <td>3</td>\n",
       "      <td>1</td>\n",
       "      <td>3</td>\n",
       "      <td>3</td>\n",
       "    </tr>\n",
       "    <tr>\n",
       "      <th>GLENN KENNY</th>\n",
       "      <td>4</td>\n",
       "      <td>4</td>\n",
       "      <td>4</td>\n",
       "      <td>4</td>\n",
       "      <td>4</td>\n",
       "      <td>4</td>\n",
       "      <td>4</td>\n",
       "      <td>2</td>\n",
       "      <td>4</td>\n",
       "      <td>4</td>\n",
       "    </tr>\n",
       "    <tr>\n",
       "      <th>JEANNETTE CATSOULIS</th>\n",
       "      <td>2</td>\n",
       "      <td>2</td>\n",
       "      <td>2</td>\n",
       "      <td>2</td>\n",
       "      <td>2</td>\n",
       "      <td>2</td>\n",
       "      <td>2</td>\n",
       "      <td>2</td>\n",
       "      <td>2</td>\n",
       "      <td>2</td>\n",
       "    </tr>\n",
       "    <tr>\n",
       "      <th>KEN JAWOROWSKI</th>\n",
       "      <td>3</td>\n",
       "      <td>3</td>\n",
       "      <td>3</td>\n",
       "      <td>3</td>\n",
       "      <td>3</td>\n",
       "      <td>3</td>\n",
       "      <td>3</td>\n",
       "      <td>3</td>\n",
       "      <td>3</td>\n",
       "      <td>3</td>\n",
       "    </tr>\n",
       "    <tr>\n",
       "      <th>MANOHLA DARGIS</th>\n",
       "      <td>1</td>\n",
       "      <td>1</td>\n",
       "      <td>1</td>\n",
       "      <td>1</td>\n",
       "      <td>1</td>\n",
       "      <td>1</td>\n",
       "      <td>1</td>\n",
       "      <td>1</td>\n",
       "      <td>1</td>\n",
       "      <td>1</td>\n",
       "    </tr>\n",
       "    <tr>\n",
       "      <th>TEO BUGBEE</th>\n",
       "      <td>2</td>\n",
       "      <td>2</td>\n",
       "      <td>2</td>\n",
       "      <td>2</td>\n",
       "      <td>2</td>\n",
       "      <td>2</td>\n",
       "      <td>2</td>\n",
       "      <td>2</td>\n",
       "      <td>2</td>\n",
       "      <td>2</td>\n",
       "    </tr>\n",
       "  </tbody>\n",
       "</table>\n",
       "</div>"
      ],
      "text/plain": [
       "                     critics_pick  date_updated  display_title  headline  \\\n",
       "byline                                                                     \n",
       "A. O. SCOTT                     5             5              5         5   \n",
       "BEN KENIGSBERG                  3             3              3         3   \n",
       "GLENN KENNY                     4             4              4         4   \n",
       "JEANNETTE CATSOULIS             2             2              2         2   \n",
       "KEN JAWOROWSKI                  3             3              3         3   \n",
       "MANOHLA DARGIS                  1             1              1         1   \n",
       "TEO BUGBEE                      2             2              2         2   \n",
       "\n",
       "                     link  mpaa_rating  multimedia  opening_date  \\\n",
       "byline                                                             \n",
       "A. O. SCOTT             5            5           5             5   \n",
       "BEN KENIGSBERG          3            3           3             1   \n",
       "GLENN KENNY             4            4           4             2   \n",
       "JEANNETTE CATSOULIS     2            2           2             2   \n",
       "KEN JAWOROWSKI          3            3           3             3   \n",
       "MANOHLA DARGIS          1            1           1             1   \n",
       "TEO BUGBEE              2            2           2             2   \n",
       "\n",
       "                     publication_date  summary_short  \n",
       "byline                                                \n",
       "A. O. SCOTT                         5              5  \n",
       "BEN KENIGSBERG                      3              3  \n",
       "GLENN KENNY                         4              4  \n",
       "JEANNETTE CATSOULIS                 2              2  \n",
       "KEN JAWOROWSKI                      3              3  \n",
       "MANOHLA DARGIS                      1              1  \n",
       "TEO BUGBEE                          2              2  "
      ]
     },
     "execution_count": 20,
     "metadata": {},
     "output_type": "execute_result"
    }
   ],
   "source": [
    "#Your code here\n",
    "df = pd.DataFrame(data[\"results\"])\n",
    "df.groupby(\"byline\").count()"
   ]
  },
  {
   "cell_type": "markdown",
   "metadata": {},
   "source": [
    "## How many unique critics are there?"
   ]
  },
  {
   "cell_type": "code",
   "execution_count": 19,
   "metadata": {},
   "outputs": [
    {
     "data": {
      "text/plain": [
       "8"
      ]
     },
     "execution_count": 19,
     "metadata": {},
     "output_type": "execute_result"
    }
   ],
   "source": [
    "#Your code here\n",
    "len(set(df.byline))\n",
    "# Groupby shows that there are two very similar Rows , A. O. Scott and A.O. Scott. The chnace is hgihg that these are the same persons , this will make 7 unique critics"
   ]
  },
  {
   "cell_type": "code",
   "execution_count": 21,
   "metadata": {},
   "outputs": [
    {
     "data": {
      "text/plain": [
       "7"
      ]
     },
     "execution_count": 21,
     "metadata": {},
     "output_type": "execute_result"
    }
   ],
   "source": [
    "#df.byline = df.byline.apply(lambda x: \"A. O. SCOTT\" if x== \"A.O. SCOTT\" else x)\n",
    "len(set(df.byline))"
   ]
  },
  {
   "cell_type": "markdown",
   "metadata": {},
   "source": [
    "## Create a new column for the review's url. Title the column 'review_url'"
   ]
  },
  {
   "cell_type": "code",
   "execution_count": 24,
   "metadata": {},
   "outputs": [
    {
     "data": {
      "text/html": [
       "<div>\n",
       "<style scoped>\n",
       "    .dataframe tbody tr th:only-of-type {\n",
       "        vertical-align: middle;\n",
       "    }\n",
       "\n",
       "    .dataframe tbody tr th {\n",
       "        vertical-align: top;\n",
       "    }\n",
       "\n",
       "    .dataframe thead th {\n",
       "        text-align: right;\n",
       "    }\n",
       "</style>\n",
       "<table border=\"1\" class=\"dataframe\">\n",
       "  <thead>\n",
       "    <tr style=\"text-align: right;\">\n",
       "      <th></th>\n",
       "      <th>byline</th>\n",
       "      <th>critics_pick</th>\n",
       "      <th>date_updated</th>\n",
       "      <th>display_title</th>\n",
       "      <th>headline</th>\n",
       "      <th>link</th>\n",
       "      <th>mpaa_rating</th>\n",
       "      <th>multimedia</th>\n",
       "      <th>opening_date</th>\n",
       "      <th>publication_date</th>\n",
       "      <th>summary_short</th>\n",
       "    </tr>\n",
       "  </thead>\n",
       "  <tbody>\n",
       "    <tr>\n",
       "      <th>0</th>\n",
       "      <td>A. O. SCOTT</td>\n",
       "      <td>1</td>\n",
       "      <td>2018-10-17 02:44:23</td>\n",
       "      <td>Can You Ever Forgive Me</td>\n",
       "      <td>Review: Melissa McCarthy Is Criminally Good in...</td>\n",
       "      <td>{'type': 'article', 'url': 'http://www.nytimes...</td>\n",
       "      <td>R</td>\n",
       "      <td>{'type': 'mediumThreeByTwo210', 'src': 'https:...</td>\n",
       "      <td>2018-10-19</td>\n",
       "      <td>2018-10-16</td>\n",
       "      <td>Marielle Heller directs a true story of litera...</td>\n",
       "    </tr>\n",
       "    <tr>\n",
       "      <th>1</th>\n",
       "      <td>BEN KENIGSBERG</td>\n",
       "      <td>1</td>\n",
       "      <td>2018-10-16 11:04:03</td>\n",
       "      <td>Charm City</td>\n",
       "      <td>Review: ‘Charm City’ Vividly Captures the Stre...</td>\n",
       "      <td>{'type': 'article', 'url': 'http://www.nytimes...</td>\n",
       "      <td></td>\n",
       "      <td>{'type': 'mediumThreeByTwo210', 'src': 'https:...</td>\n",
       "      <td>2018-04-22</td>\n",
       "      <td>2018-10-16</td>\n",
       "      <td>Marilyn Ness’s documentary is dedicated to the...</td>\n",
       "    </tr>\n",
       "    <tr>\n",
       "      <th>2</th>\n",
       "      <td>GLENN KENNY</td>\n",
       "      <td>1</td>\n",
       "      <td>2018-10-16 11:04:04</td>\n",
       "      <td>Horn from the Heart: The Paul Butterfield Story</td>\n",
       "      <td>Review: Paul Butterfield’s Story Is Told in ‘H...</td>\n",
       "      <td>{'type': 'article', 'url': 'http://www.nytimes...</td>\n",
       "      <td></td>\n",
       "      <td>{'type': 'mediumThreeByTwo210', 'src': 'https:...</td>\n",
       "      <td>2018-10-19</td>\n",
       "      <td>2018-10-16</td>\n",
       "      <td>A documentary explores the life of the blues m...</td>\n",
       "    </tr>\n",
       "    <tr>\n",
       "      <th>3</th>\n",
       "      <td>A. O. SCOTT</td>\n",
       "      <td>0</td>\n",
       "      <td>2018-10-16 16:08:03</td>\n",
       "      <td>The Price of Everything</td>\n",
       "      <td>Review: ‘The Price of Everything’ Asks $56 Bil...</td>\n",
       "      <td>{'type': 'article', 'url': 'http://www.nytimes...</td>\n",
       "      <td></td>\n",
       "      <td>{'type': 'mediumThreeByTwo210', 'src': 'https:...</td>\n",
       "      <td>2018-10-19</td>\n",
       "      <td>2018-10-16</td>\n",
       "      <td>This documentary examines the global art marke...</td>\n",
       "    </tr>\n",
       "    <tr>\n",
       "      <th>4</th>\n",
       "      <td>BEN KENIGSBERG</td>\n",
       "      <td>0</td>\n",
       "      <td>2018-10-16 11:04:03</td>\n",
       "      <td>Impulso</td>\n",
       "      <td>Review: ‘Impulso’ Goes Backstage With a Flamen...</td>\n",
       "      <td>{'type': 'article', 'url': 'http://www.nytimes...</td>\n",
       "      <td></td>\n",
       "      <td>{'type': 'mediumThreeByTwo210', 'src': 'https:...</td>\n",
       "      <td>None</td>\n",
       "      <td>2018-10-16</td>\n",
       "      <td>This documentary follows Rocío Molina, a cutti...</td>\n",
       "    </tr>\n",
       "  </tbody>\n",
       "</table>\n",
       "</div>"
      ],
      "text/plain": [
       "           byline  critics_pick         date_updated  \\\n",
       "0     A. O. SCOTT             1  2018-10-17 02:44:23   \n",
       "1  BEN KENIGSBERG             1  2018-10-16 11:04:03   \n",
       "2     GLENN KENNY             1  2018-10-16 11:04:04   \n",
       "3     A. O. SCOTT             0  2018-10-16 16:08:03   \n",
       "4  BEN KENIGSBERG             0  2018-10-16 11:04:03   \n",
       "\n",
       "                                     display_title  \\\n",
       "0                          Can You Ever Forgive Me   \n",
       "1                                       Charm City   \n",
       "2  Horn from the Heart: The Paul Butterfield Story   \n",
       "3                          The Price of Everything   \n",
       "4                                          Impulso   \n",
       "\n",
       "                                            headline  \\\n",
       "0  Review: Melissa McCarthy Is Criminally Good in...   \n",
       "1  Review: ‘Charm City’ Vividly Captures the Stre...   \n",
       "2  Review: Paul Butterfield’s Story Is Told in ‘H...   \n",
       "3  Review: ‘The Price of Everything’ Asks $56 Bil...   \n",
       "4  Review: ‘Impulso’ Goes Backstage With a Flamen...   \n",
       "\n",
       "                                                link mpaa_rating  \\\n",
       "0  {'type': 'article', 'url': 'http://www.nytimes...           R   \n",
       "1  {'type': 'article', 'url': 'http://www.nytimes...               \n",
       "2  {'type': 'article', 'url': 'http://www.nytimes...               \n",
       "3  {'type': 'article', 'url': 'http://www.nytimes...               \n",
       "4  {'type': 'article', 'url': 'http://www.nytimes...               \n",
       "\n",
       "                                          multimedia opening_date  \\\n",
       "0  {'type': 'mediumThreeByTwo210', 'src': 'https:...   2018-10-19   \n",
       "1  {'type': 'mediumThreeByTwo210', 'src': 'https:...   2018-04-22   \n",
       "2  {'type': 'mediumThreeByTwo210', 'src': 'https:...   2018-10-19   \n",
       "3  {'type': 'mediumThreeByTwo210', 'src': 'https:...   2018-10-19   \n",
       "4  {'type': 'mediumThreeByTwo210', 'src': 'https:...         None   \n",
       "\n",
       "  publication_date                                      summary_short  \n",
       "0       2018-10-16  Marielle Heller directs a true story of litera...  \n",
       "1       2018-10-16  Marilyn Ness’s documentary is dedicated to the...  \n",
       "2       2018-10-16  A documentary explores the life of the blues m...  \n",
       "3       2018-10-16  This documentary examines the global art marke...  \n",
       "4       2018-10-16  This documentary follows Rocío Molina, a cutti...  "
      ]
     },
     "execution_count": 24,
     "metadata": {},
     "output_type": "execute_result"
    }
   ],
   "source": [
    "df.head()"
   ]
  },
  {
   "cell_type": "code",
   "execution_count": 29,
   "metadata": {
    "scrolled": true
   },
   "outputs": [
    {
     "data": {
      "text/plain": [
       "'http://www.nytimes.com/2018/10/16/movies/can-you-ever-forgive-me-review-melissa-mccarthy.html'"
      ]
     },
     "execution_count": 29,
     "metadata": {},
     "output_type": "execute_result"
    }
   ],
   "source": [
    "#Your code here\n",
    "df[\"link\"][0][url]"
   ]
  },
  {
   "cell_type": "markdown",
   "metadata": {},
   "source": [
    "## How many results are in the file?"
   ]
  },
  {
   "cell_type": "code",
   "execution_count": null,
   "metadata": {},
   "outputs": [],
   "source": [
    "#Your code here"
   ]
  },
  {
   "cell_type": "markdown",
   "metadata": {},
   "source": [
    "## Summary\n",
    "Well done! Here you continued to gather practice extracting data from JSON files and transforming them into our standard tool of Pandas DataFrames."
   ]
  }
 ],
 "metadata": {
  "kernelspec": {
   "display_name": "Python 3",
   "language": "python",
   "name": "python3"
  },
  "language_info": {
   "codemirror_mode": {
    "name": "ipython",
    "version": 3
   },
   "file_extension": ".py",
   "mimetype": "text/x-python",
   "name": "python",
   "nbconvert_exporter": "python",
   "pygments_lexer": "ipython3",
   "version": "3.6.6"
  }
 },
 "nbformat": 4,
 "nbformat_minor": 2
}
